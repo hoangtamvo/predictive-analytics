{
 "cells": [
  {
   "cell_type": "markdown",
   "metadata": {},
   "source": [
    "# Predicting Burned Area of Bushfires by Using Meteorological Data\n"
   ]
  },
  {
   "cell_type": "markdown",
   "metadata": {},
   "source": [
    "## Table of Contents\n",
    "\n",
    "* [Introduction](#sec_1)\n",
    "* [Data Exploration](#sec_2)\n",
    "* [Model Development](#sec_3)\n",
    "* [Model Comparison](#sec_4)\n",
    "* [Variable Identification and Explanation](#sec_5)\n",
    "* [Conclusion](#sec_6)\n",
    "* [References](#sec_7)"
   ]
  },
  {
   "cell_type": "markdown",
   "metadata": {},
   "source": [
    "## 1. Introduction <a class=\"anchor\" id=\"sec_1\"></a>"
   ]
  },
  {
   "cell_type": "markdown",
   "metadata": {},
   "source": [
    "In this task, we are interested in exploring machine learning approaches\n",
    "to predict the burned area of bushfires by using meteorological data that are\n",
    "known to influence the wild fires. The dataset that we are going to use here were\n",
    "originally collected from the northeast region of Portugal between January 2000\n",
    "and December 2003. It contains geographical information, fire weather indices,\n",
    "and the corresponding weather conditions. The aim is to build statistical models that can predict the burned area of the bushfires. \n",
    "\n",
    "The dataset contains 517 fire instances, each of which have 13 columns: the first\n",
    "12 columns corresponding to the attributes (e.g., spatial coordinates, month,\n",
    "day, four fire indices, and other meteorological data) and the last column containing the burned area, i.e., the variable that we will predict."
   ]
  },
  {
   "cell_type": "code",
   "execution_count": 1,
   "metadata": {
    "scrolled": true
   },
   "outputs": [
    {
     "name": "stderr",
     "output_type": "stream",
     "text": [
      "Loading required package: lattice\n",
      "Loading required package: ggplot2\n",
      "Registered S3 methods overwritten by 'ggplot2':\n",
      "  method         from \n",
      "  [.quosures     rlang\n",
      "  c.quosures     rlang\n",
      "  print.quosures rlang\n",
      "Loaded lars 1.2\n",
      "\n",
      "randomForest 4.6-14\n",
      "Type rfNews() to see new features/changes/bug fixes.\n",
      "\n",
      "Attaching package: 'randomForest'\n",
      "\n",
      "The following object is masked from 'package:ggplot2':\n",
      "\n",
      "    margin\n",
      "\n",
      "corrplot 0.84 loaded\n",
      "\n",
      "Attaching package: 'psych'\n",
      "\n",
      "The following object is masked from 'package:randomForest':\n",
      "\n",
      "    outlier\n",
      "\n",
      "The following object is masked from 'package:lars':\n",
      "\n",
      "    error.bars\n",
      "\n",
      "The following objects are masked from 'package:ggplot2':\n",
      "\n",
      "    %+%, alpha\n",
      "\n",
      "Loaded gbm 2.1.5\n"
     ]
    }
   ],
   "source": [
    "# turn off warnings\n",
    "options(warn=-1)\n",
    "\n",
    "# Libraries used\n",
    "library(caret)\n",
    "library(lars)\n",
    "library(MASS)\n",
    "library(randomForest)\n",
    "library(corrplot)\n",
    "library(ggcorrplot)\n",
    "library(psych)\n",
    "library(data.table)\n",
    "library(e1071)\n",
    "library(xgboost)\n",
    "library(gbm)"
   ]
  },
  {
   "cell_type": "markdown",
   "metadata": {},
   "source": [
    "## 2. Data Exploration<a class=\"anchor\" id=\"sec_2\"></a>"
   ]
  },
  {
   "cell_type": "markdown",
   "metadata": {},
   "source": [
    "In this section, we will explore the dataset and try to understand its compostion and distribution.\n",
    "\n",
    "### 2.1 Descriptive Statistics\n",
    "\n",
    "Lets start with seeing how the dataset looks, its structure and details about the data in each column.\n"
   ]
  },
  {
   "cell_type": "code",
   "execution_count": 2,
   "metadata": {
    "scrolled": true
   },
   "outputs": [
    {
     "name": "stdout",
     "output_type": "stream",
     "text": [
      "The number of rows in the dataset = 517 and the number of columns = 13"
     ]
    },
    {
     "data": {
      "text/html": [
       "<table>\n",
       "<thead><tr><th scope=col>X</th><th scope=col>Y</th><th scope=col>month</th><th scope=col>day</th><th scope=col>FFMC</th><th scope=col>DMC</th><th scope=col>DC</th><th scope=col>ISI</th><th scope=col>temp</th><th scope=col>RH</th><th scope=col>wind</th><th scope=col>rain</th><th scope=col>area</th></tr></thead>\n",
       "<tbody>\n",
       "\t<tr><td>7    </td><td>5    </td><td>mar  </td><td>fri  </td><td>86.2 </td><td>26.2 </td><td> 94.3</td><td> 5.1 </td><td> 8.2 </td><td>51   </td><td>6.7  </td><td>0.0  </td><td>0    </td></tr>\n",
       "\t<tr><td>7    </td><td>4    </td><td>oct  </td><td>tue  </td><td>90.6 </td><td>35.4 </td><td>669.1</td><td> 6.7 </td><td>18.0 </td><td>33   </td><td>0.9  </td><td>0.0  </td><td>0    </td></tr>\n",
       "\t<tr><td>7    </td><td>4    </td><td>oct  </td><td>sat  </td><td>90.6 </td><td>43.7 </td><td>686.9</td><td> 6.7 </td><td>14.6 </td><td>33   </td><td>1.3  </td><td>0.0  </td><td>0    </td></tr>\n",
       "\t<tr><td>8    </td><td>6    </td><td>mar  </td><td>fri  </td><td>91.7 </td><td>33.3 </td><td> 77.5</td><td> 9.0 </td><td> 8.3 </td><td>97   </td><td>4.0  </td><td>0.2  </td><td>0    </td></tr>\n",
       "\t<tr><td>8    </td><td>6    </td><td>mar  </td><td>sun  </td><td>89.3 </td><td>51.3 </td><td>102.2</td><td> 9.6 </td><td>11.4 </td><td>99   </td><td>1.8  </td><td>0.0  </td><td>0    </td></tr>\n",
       "\t<tr><td>8    </td><td>6    </td><td>aug  </td><td>sun  </td><td>92.3 </td><td>85.3 </td><td>488.0</td><td>14.7 </td><td>22.2 </td><td>29   </td><td>5.4  </td><td>0.0  </td><td>0    </td></tr>\n",
       "</tbody>\n",
       "</table>\n"
      ],
      "text/latex": [
       "\\begin{tabular}{r|lllllllllllll}\n",
       " X & Y & month & day & FFMC & DMC & DC & ISI & temp & RH & wind & rain & area\\\\\n",
       "\\hline\n",
       "\t 7     & 5     & mar   & fri   & 86.2  & 26.2  &  94.3 &  5.1  &  8.2  & 51    & 6.7   & 0.0   & 0    \\\\\n",
       "\t 7     & 4     & oct   & tue   & 90.6  & 35.4  & 669.1 &  6.7  & 18.0  & 33    & 0.9   & 0.0   & 0    \\\\\n",
       "\t 7     & 4     & oct   & sat   & 90.6  & 43.7  & 686.9 &  6.7  & 14.6  & 33    & 1.3   & 0.0   & 0    \\\\\n",
       "\t 8     & 6     & mar   & fri   & 91.7  & 33.3  &  77.5 &  9.0  &  8.3  & 97    & 4.0   & 0.2   & 0    \\\\\n",
       "\t 8     & 6     & mar   & sun   & 89.3  & 51.3  & 102.2 &  9.6  & 11.4  & 99    & 1.8   & 0.0   & 0    \\\\\n",
       "\t 8     & 6     & aug   & sun   & 92.3  & 85.3  & 488.0 & 14.7  & 22.2  & 29    & 5.4   & 0.0   & 0    \\\\\n",
       "\\end{tabular}\n"
      ],
      "text/markdown": [
       "\n",
       "| X | Y | month | day | FFMC | DMC | DC | ISI | temp | RH | wind | rain | area |\n",
       "|---|---|---|---|---|---|---|---|---|---|---|---|---|\n",
       "| 7     | 5     | mar   | fri   | 86.2  | 26.2  |  94.3 |  5.1  |  8.2  | 51    | 6.7   | 0.0   | 0     |\n",
       "| 7     | 4     | oct   | tue   | 90.6  | 35.4  | 669.1 |  6.7  | 18.0  | 33    | 0.9   | 0.0   | 0     |\n",
       "| 7     | 4     | oct   | sat   | 90.6  | 43.7  | 686.9 |  6.7  | 14.6  | 33    | 1.3   | 0.0   | 0     |\n",
       "| 8     | 6     | mar   | fri   | 91.7  | 33.3  |  77.5 |  9.0  |  8.3  | 97    | 4.0   | 0.2   | 0     |\n",
       "| 8     | 6     | mar   | sun   | 89.3  | 51.3  | 102.2 |  9.6  | 11.4  | 99    | 1.8   | 0.0   | 0     |\n",
       "| 8     | 6     | aug   | sun   | 92.3  | 85.3  | 488.0 | 14.7  | 22.2  | 29    | 5.4   | 0.0   | 0     |\n",
       "\n"
      ],
      "text/plain": [
       "  X Y month day FFMC DMC  DC    ISI  temp RH wind rain area\n",
       "1 7 5 mar   fri 86.2 26.2  94.3  5.1  8.2 51 6.7  0.0  0   \n",
       "2 7 4 oct   tue 90.6 35.4 669.1  6.7 18.0 33 0.9  0.0  0   \n",
       "3 7 4 oct   sat 90.6 43.7 686.9  6.7 14.6 33 1.3  0.0  0   \n",
       "4 8 6 mar   fri 91.7 33.3  77.5  9.0  8.3 97 4.0  0.2  0   \n",
       "5 8 6 mar   sun 89.3 51.3 102.2  9.6 11.4 99 1.8  0.0  0   \n",
       "6 8 6 aug   sun 92.3 85.3 488.0 14.7 22.2 29 5.4  0.0  0   "
      ]
     },
     "metadata": {},
     "output_type": "display_data"
    }
   ],
   "source": [
    "# Reading the dataset which is saved in CSV file format \n",
    "full_data <- read.csv('forestfires.csv', header = TRUE, sep = ',')\n",
    "\n",
    "#Printing the Number of Rows and Columns \n",
    "cat(\"The number of rows in the dataset =\",dim(full_data)[1],\"and the number of columns =\",dim(full_data)[2])\n",
    "\n",
    "#Viewing the First 5 Rows\n",
    "head(full_data)"
   ]
  },
  {
   "cell_type": "markdown",
   "metadata": {},
   "source": [
    "Let us start with looking at the dataset's structure and details about the data in each column."
   ]
  },
  {
   "cell_type": "code",
   "execution_count": 3,
   "metadata": {},
   "outputs": [
    {
     "name": "stdout",
     "output_type": "stream",
     "text": [
      "'data.frame':\t517 obs. of  13 variables:\n",
      " $ X    : int  7 7 7 8 8 8 8 8 8 7 ...\n",
      " $ Y    : int  5 4 4 6 6 6 6 6 6 5 ...\n",
      " $ month: Factor w/ 12 levels \"apr\",\"aug\",\"dec\",..: 8 11 11 8 8 2 2 2 12 12 ...\n",
      " $ day  : Factor w/ 7 levels \"fri\",\"mon\",\"sat\",..: 1 6 3 1 4 4 2 2 6 3 ...\n",
      " $ FFMC : num  86.2 90.6 90.6 91.7 89.3 92.3 92.3 91.5 91 92.5 ...\n",
      " $ DMC  : num  26.2 35.4 43.7 33.3 51.3 ...\n",
      " $ DC   : num  94.3 669.1 686.9 77.5 102.2 ...\n",
      " $ ISI  : num  5.1 6.7 6.7 9 9.6 14.7 8.5 10.7 7 7.1 ...\n",
      " $ temp : num  8.2 18 14.6 8.3 11.4 22.2 24.1 8 13.1 22.8 ...\n",
      " $ RH   : int  51 33 33 97 99 29 27 86 63 40 ...\n",
      " $ wind : num  6.7 0.9 1.3 4 1.8 5.4 3.1 2.2 5.4 4 ...\n",
      " $ rain : num  0 0 0 0.2 0 0 0 0 0 0 ...\n",
      " $ area : num  0 0 0 0 0 0 0 0 0 0 ...\n"
     ]
    }
   ],
   "source": [
    "# summary of the dataset\n",
    "str(full_data)"
   ]
  },
  {
   "cell_type": "markdown",
   "metadata": {},
   "source": [
    "As can be seen, the data set includes two categorical variables, i.e., month and days, whereas all other columns contain numerical values distributed in different ranges. \n",
    "\n",
    "Let's look at the descriptive statistics of the dataframe to understand the specifics of the columns."
   ]
  },
  {
   "cell_type": "code",
   "execution_count": 4,
   "metadata": {
    "scrolled": false
   },
   "outputs": [
    {
     "data": {
      "text/html": [
       "<table>\n",
       "<thead><tr><th></th><th scope=col>vars</th><th scope=col>n</th><th scope=col>mean</th><th scope=col>sd</th><th scope=col>median</th><th scope=col>trimmed</th><th scope=col>mad</th><th scope=col>min</th><th scope=col>max</th><th scope=col>range</th><th scope=col>skew</th><th scope=col>kurtosis</th><th scope=col>se</th></tr></thead>\n",
       "<tbody>\n",
       "\t<tr><th scope=row>X</th><td> 1     </td><td>517    </td><td>  4.669</td><td>  2.314</td><td>  4.00 </td><td>  4.672</td><td>  2.965</td><td> 1.0   </td><td>   9.00</td><td>   8.00</td><td> 0.036 </td><td> -1.180</td><td> 0.102 </td></tr>\n",
       "\t<tr><th scope=row>Y</th><td> 2     </td><td>517    </td><td>  4.300</td><td>  1.230</td><td>  4.00 </td><td>  4.308</td><td>  1.483</td><td> 2.0   </td><td>   9.00</td><td>   7.00</td><td> 0.415 </td><td>  1.378</td><td> 0.054 </td></tr>\n",
       "\t<tr><th scope=row>month*</th><td> 3     </td><td>517    </td><td>  6.758</td><td>  4.373</td><td>  7.00 </td><td>  6.720</td><td>  7.413</td><td> 1.0   </td><td>  12.00</td><td>  11.00</td><td> 0.084 </td><td> -1.719</td><td> 0.192 </td></tr>\n",
       "\t<tr><th scope=row>day*</th><td> 4     </td><td>517    </td><td>  3.737</td><td>  1.925</td><td>  4.00 </td><td>  3.672</td><td>  2.965</td><td> 1.0   </td><td>   7.00</td><td>   6.00</td><td> 0.157 </td><td> -1.109</td><td> 0.085 </td></tr>\n",
       "\t<tr><th scope=row>FFMC</th><td> 5     </td><td>517    </td><td> 90.645</td><td>  5.520</td><td> 91.60 </td><td> 91.455</td><td>  1.927</td><td>18.7   </td><td>  96.20</td><td>  77.50</td><td>-6.537 </td><td> 66.139</td><td> 0.243 </td></tr>\n",
       "\t<tr><th scope=row>DMC</th><td> 6     </td><td>517    </td><td>110.872</td><td> 64.046</td><td>108.30 </td><td>106.522</td><td> 51.743</td><td> 1.1   </td><td> 291.30</td><td> 290.20</td><td> 0.544 </td><td>  0.179</td><td> 2.817 </td></tr>\n",
       "\t<tr><th scope=row>DC</th><td> 7     </td><td>517    </td><td>547.940</td><td>248.066</td><td>664.20 </td><td>578.692</td><td>118.905</td><td> 7.9   </td><td> 860.60</td><td> 852.70</td><td>-1.094 </td><td> -0.265</td><td>10.910 </td></tr>\n",
       "\t<tr><th scope=row>ISI</th><td> 8     </td><td>517    </td><td>  9.022</td><td>  4.559</td><td>  8.40 </td><td>  8.727</td><td>  3.113</td><td> 0.0   </td><td>  56.10</td><td>  56.10</td><td> 2.522 </td><td> 21.146</td><td> 0.201 </td></tr>\n",
       "\t<tr><th scope=row>temp</th><td> 9     </td><td>517    </td><td> 18.889</td><td>  5.807</td><td> 19.30 </td><td> 19.091</td><td>  5.337</td><td> 2.2   </td><td>  33.30</td><td>  31.10</td><td>-0.329 </td><td>  0.111</td><td> 0.255 </td></tr>\n",
       "\t<tr><th scope=row>RH</th><td>10     </td><td>517    </td><td> 44.288</td><td> 16.317</td><td> 42.00 </td><td> 42.706</td><td> 14.826</td><td>15.0   </td><td> 100.00</td><td>  85.00</td><td> 0.858 </td><td>  0.409</td><td> 0.718 </td></tr>\n",
       "\t<tr><th scope=row>wind</th><td>11     </td><td>517    </td><td>  4.018</td><td>  1.792</td><td>  4.00 </td><td>  3.899</td><td>  1.927</td><td> 0.4   </td><td>   9.40</td><td>   9.00</td><td> 0.568 </td><td>  0.030</td><td> 0.079 </td></tr>\n",
       "\t<tr><th scope=row>rain</th><td>12     </td><td>517    </td><td>  0.022</td><td>  0.296</td><td>  0.00 </td><td>  0.000</td><td>  0.000</td><td> 0.0   </td><td>   6.40</td><td>   6.40</td><td>19.702 </td><td>415.597</td><td> 0.013 </td></tr>\n",
       "\t<tr><th scope=row>area</th><td>13     </td><td>517    </td><td> 12.847</td><td> 63.656</td><td>  0.52 </td><td>  3.182</td><td>  0.771</td><td> 0.0   </td><td>1090.84</td><td>1090.84</td><td>12.772 </td><td>191.502</td><td> 2.800 </td></tr>\n",
       "</tbody>\n",
       "</table>\n"
      ],
      "text/latex": [
       "\\begin{tabular}{r|lllllllllllll}\n",
       "  & vars & n & mean & sd & median & trimmed & mad & min & max & range & skew & kurtosis & se\\\\\n",
       "\\hline\n",
       "\tX &  1      & 517     &   4.669 &   2.314 &   4.00  &   4.672 &   2.965 &  1.0    &    9.00 &    8.00 &  0.036  &  -1.180 &  0.102 \\\\\n",
       "\tY &  2      & 517     &   4.300 &   1.230 &   4.00  &   4.308 &   1.483 &  2.0    &    9.00 &    7.00 &  0.415  &   1.378 &  0.054 \\\\\n",
       "\tmonth* &  3      & 517     &   6.758 &   4.373 &   7.00  &   6.720 &   7.413 &  1.0    &   12.00 &   11.00 &  0.084  &  -1.719 &  0.192 \\\\\n",
       "\tday* &  4      & 517     &   3.737 &   1.925 &   4.00  &   3.672 &   2.965 &  1.0    &    7.00 &    6.00 &  0.157  &  -1.109 &  0.085 \\\\\n",
       "\tFFMC &  5      & 517     &  90.645 &   5.520 &  91.60  &  91.455 &   1.927 & 18.7    &   96.20 &   77.50 & -6.537  &  66.139 &  0.243 \\\\\n",
       "\tDMC &  6      & 517     & 110.872 &  64.046 & 108.30  & 106.522 &  51.743 &  1.1    &  291.30 &  290.20 &  0.544  &   0.179 &  2.817 \\\\\n",
       "\tDC &  7      & 517     & 547.940 & 248.066 & 664.20  & 578.692 & 118.905 &  7.9    &  860.60 &  852.70 & -1.094  &  -0.265 & 10.910 \\\\\n",
       "\tISI &  8      & 517     &   9.022 &   4.559 &   8.40  &   8.727 &   3.113 &  0.0    &   56.10 &   56.10 &  2.522  &  21.146 &  0.201 \\\\\n",
       "\ttemp &  9      & 517     &  18.889 &   5.807 &  19.30  &  19.091 &   5.337 &  2.2    &   33.30 &   31.10 & -0.329  &   0.111 &  0.255 \\\\\n",
       "\tRH & 10      & 517     &  44.288 &  16.317 &  42.00  &  42.706 &  14.826 & 15.0    &  100.00 &   85.00 &  0.858  &   0.409 &  0.718 \\\\\n",
       "\twind & 11      & 517     &   4.018 &   1.792 &   4.00  &   3.899 &   1.927 &  0.4    &    9.40 &    9.00 &  0.568  &   0.030 &  0.079 \\\\\n",
       "\train & 12      & 517     &   0.022 &   0.296 &   0.00  &   0.000 &   0.000 &  0.0    &    6.40 &    6.40 & 19.702  & 415.597 &  0.013 \\\\\n",
       "\tarea & 13      & 517     &  12.847 &  63.656 &   0.52  &   3.182 &   0.771 &  0.0    & 1090.84 & 1090.84 & 12.772  & 191.502 &  2.800 \\\\\n",
       "\\end{tabular}\n"
      ],
      "text/markdown": [
       "\n",
       "| <!--/--> | vars | n | mean | sd | median | trimmed | mad | min | max | range | skew | kurtosis | se |\n",
       "|---|---|---|---|---|---|---|---|---|---|---|---|---|---|\n",
       "| X |  1      | 517     |   4.669 |   2.314 |   4.00  |   4.672 |   2.965 |  1.0    |    9.00 |    8.00 |  0.036  |  -1.180 |  0.102  |\n",
       "| Y |  2      | 517     |   4.300 |   1.230 |   4.00  |   4.308 |   1.483 |  2.0    |    9.00 |    7.00 |  0.415  |   1.378 |  0.054  |\n",
       "| month* |  3      | 517     |   6.758 |   4.373 |   7.00  |   6.720 |   7.413 |  1.0    |   12.00 |   11.00 |  0.084  |  -1.719 |  0.192  |\n",
       "| day* |  4      | 517     |   3.737 |   1.925 |   4.00  |   3.672 |   2.965 |  1.0    |    7.00 |    6.00 |  0.157  |  -1.109 |  0.085  |\n",
       "| FFMC |  5      | 517     |  90.645 |   5.520 |  91.60  |  91.455 |   1.927 | 18.7    |   96.20 |   77.50 | -6.537  |  66.139 |  0.243  |\n",
       "| DMC |  6      | 517     | 110.872 |  64.046 | 108.30  | 106.522 |  51.743 |  1.1    |  291.30 |  290.20 |  0.544  |   0.179 |  2.817  |\n",
       "| DC |  7      | 517     | 547.940 | 248.066 | 664.20  | 578.692 | 118.905 |  7.9    |  860.60 |  852.70 | -1.094  |  -0.265 | 10.910  |\n",
       "| ISI |  8      | 517     |   9.022 |   4.559 |   8.40  |   8.727 |   3.113 |  0.0    |   56.10 |   56.10 |  2.522  |  21.146 |  0.201  |\n",
       "| temp |  9      | 517     |  18.889 |   5.807 |  19.30  |  19.091 |   5.337 |  2.2    |   33.30 |   31.10 | -0.329  |   0.111 |  0.255  |\n",
       "| RH | 10      | 517     |  44.288 |  16.317 |  42.00  |  42.706 |  14.826 | 15.0    |  100.00 |   85.00 |  0.858  |   0.409 |  0.718  |\n",
       "| wind | 11      | 517     |   4.018 |   1.792 |   4.00  |   3.899 |   1.927 |  0.4    |    9.40 |    9.00 |  0.568  |   0.030 |  0.079  |\n",
       "| rain | 12      | 517     |   0.022 |   0.296 |   0.00  |   0.000 |   0.000 |  0.0    |    6.40 |    6.40 | 19.702  | 415.597 |  0.013  |\n",
       "| area | 13      | 517     |  12.847 |  63.656 |   0.52  |   3.182 |   0.771 |  0.0    | 1090.84 | 1090.84 | 12.772  | 191.502 |  2.800  |\n",
       "\n"
      ],
      "text/plain": [
       "       vars n   mean    sd      median trimmed mad     min  max     range  \n",
       "X       1   517   4.669   2.314   4.00   4.672   2.965  1.0    9.00    8.00\n",
       "Y       2   517   4.300   1.230   4.00   4.308   1.483  2.0    9.00    7.00\n",
       "month*  3   517   6.758   4.373   7.00   6.720   7.413  1.0   12.00   11.00\n",
       "day*    4   517   3.737   1.925   4.00   3.672   2.965  1.0    7.00    6.00\n",
       "FFMC    5   517  90.645   5.520  91.60  91.455   1.927 18.7   96.20   77.50\n",
       "DMC     6   517 110.872  64.046 108.30 106.522  51.743  1.1  291.30  290.20\n",
       "DC      7   517 547.940 248.066 664.20 578.692 118.905  7.9  860.60  852.70\n",
       "ISI     8   517   9.022   4.559   8.40   8.727   3.113  0.0   56.10   56.10\n",
       "temp    9   517  18.889   5.807  19.30  19.091   5.337  2.2   33.30   31.10\n",
       "RH     10   517  44.288  16.317  42.00  42.706  14.826 15.0  100.00   85.00\n",
       "wind   11   517   4.018   1.792   4.00   3.899   1.927  0.4    9.40    9.00\n",
       "rain   12   517   0.022   0.296   0.00   0.000   0.000  0.0    6.40    6.40\n",
       "area   13   517  12.847  63.656   0.52   3.182   0.771  0.0 1090.84 1090.84\n",
       "       skew   kurtosis se    \n",
       "X       0.036  -1.180   0.102\n",
       "Y       0.415   1.378   0.054\n",
       "month*  0.084  -1.719   0.192\n",
       "day*    0.157  -1.109   0.085\n",
       "FFMC   -6.537  66.139   0.243\n",
       "DMC     0.544   0.179   2.817\n",
       "DC     -1.094  -0.265  10.910\n",
       "ISI     2.522  21.146   0.201\n",
       "temp   -0.329   0.111   0.255\n",
       "RH      0.858   0.409   0.718\n",
       "wind    0.568   0.030   0.079\n",
       "rain   19.702 415.597   0.013\n",
       "area   12.772 191.502   2.800"
      ]
     },
     "metadata": {},
     "output_type": "display_data"
    }
   ],
   "source": [
    "# descriptive statistics of the dataset\n",
    "round(describe(full_data), 3)"
   ]
  },
  {
   "cell_type": "markdown",
   "metadata": {},
   "source": [
    "The descriptive statistics give us a more information about variables:\n",
    "- Overall, variables containing numerical values spanning across very different ranges. Hence it's better to consider normalising them before building models. \n",
    "- The target variable `area` spans across a very large range of values with a high skewness (skew = 12.772)\n",
    "- Even though the `rain` variable has a much smaller value range, it's skewness is also very high (skew = 19.702)\n",
    "\n",
    "    \n",
    "### 2.2 Data Distribution of Variables with Graphical Statistics\n",
    "\n",
    "Now, let us explore the distribution of the data with graphical statistics.\n"
   ]
  },
  {
   "cell_type": "markdown",
   "metadata": {},
   "source": [
    "#### Distribution of Numerical Independent Variables"
   ]
  },
  {
   "cell_type": "code",
   "execution_count": 5,
   "metadata": {
    "scrolled": false
   },
   "outputs": [
    {
     "data": {
      "image/png": "[encoded data removed]",
      "text/plain": [
       "Plot with title \"Distribution of rain\""
      ]
     },
     "metadata": {},
     "output_type": "display_data"
    }
   ],
   "source": [
    "# Creating a subplot for each column\n",
    "par(mfrow=c(5,4))\n",
    "\n",
    "# Plotting the Histogram of the peroperty's distribution and a Boxplot to undetsand its variance if any\n",
    "\n",
    "hist(full_data$X,main = 'Distribution of X',xlab=\"X\")\n",
    "boxplot(full_data$X, horizontal=TRUE)\n",
    "hist(full_data$Y,main = 'Distribution of Y',xlab=\"Y\")\n",
    "boxplot(full_data$Y, horizontal=TRUE)\n",
    "hist(full_data$FFMC,main = 'Distribution of FFMC',xlab=\"FFMC\")\n",
    "boxplot(full_data$FFMC, horizontal=TRUE)\n",
    "hist(full_data$DMC,main = 'Distribution of DMC',xlab=\"DMC\")\n",
    "boxplot(full_data$DMC, horizontal=TRUE)\n",
    "hist(full_data$DC,main = 'Distribution of DC',xlab=\"DC\")\n",
    "boxplot(full_data$DC, horizontal=TRUE)\n",
    "hist(full_data$ISI,main='Distribution of ISI',xlab=\"ISI\")\n",
    "boxplot(full_data$ISI, horizontal=TRUE)\n",
    "hist(full_data$temp,main='Distribution of temp',xlab=\"temp\")\n",
    "boxplot(full_data$temp, horizontal=TRUE)\n",
    "hist(full_data$RH,main = 'Distribution of RH',xlab=\"RH\")\n",
    "boxplot(full_data$RH, horizontal=TRUE)\n",
    "hist(full_data$wind,main='Distribution of wind',xlab=\"wind\")\n",
    "boxplot(full_data$wind, horizontal=TRUE)\n",
    "hist(full_data$rain,main = 'Distribution of rain',xlab=\"rain\")\n",
    "boxplot(full_data$rain, horizontal=TRUE)"
   ]
  },
  {
   "cell_type": "markdown",
   "metadata": {},
   "source": [
    "Several observations can be made from the above plots:\n",
    "- Looking at the histograms, it can be seen that meterology variables such as `temp`, `wind`, `RH` tend to have normal distribution, which is great. \n",
    "- Based on the box plots, it appears that most numerical variables have outiliers. It could be good to considering removing those outliers from the data set. "
   ]
  },
  {
   "cell_type": "markdown",
   "metadata": {},
   "source": [
    "#### Definition of Useful User-defined Functions in this Notebook"
   ]
  },
  {
   "cell_type": "code",
   "execution_count": 6,
   "metadata": {},
   "outputs": [],
   "source": [
    "get_original_numerical_variables <- function() {\n",
    "  variables <- c('X','Y','FFMC','DMC','DC','ISI','temp','wind','RH','rain')\n",
    "  return(variables)\n",
    "}"
   ]
  },
  {
   "cell_type": "code",
   "execution_count": 7,
   "metadata": {},
   "outputs": [],
   "source": [
    "get_original_variables <- function() {\n",
    "  variables <- c('X','Y','day','month','FFMC','DMC','DC','ISI','temp','wind','RH','rain')\n",
    "  return(variables)\n",
    "}"
   ]
  },
  {
   "cell_type": "code",
   "execution_count": 8,
   "metadata": {},
   "outputs": [],
   "source": [
    "get_original_target_variable <- function(){\n",
    "    return('area')\n",
    "}"
   ]
  },
  {
   "cell_type": "code",
   "execution_count": 9,
   "metadata": {},
   "outputs": [],
   "source": [
    "get_original_data <- function(){\n",
    "    data = full_data[c(get_original_variables(), get_original_target_variable())]\n",
    "    return(data)\n",
    "}"
   ]
  },
  {
   "cell_type": "code",
   "execution_count": 10,
   "metadata": {},
   "outputs": [],
   "source": [
    "get_original_numerical_data <- function(){\n",
    "    data = full_data[c(get_original_numerical_variables(), get_original_target_variable())]\n",
    "    return(data)\n",
    "}"
   ]
  },
  {
   "cell_type": "code",
   "execution_count": 11,
   "metadata": {},
   "outputs": [],
   "source": [
    "get_subset <- function(df, columns){\n",
    "    subset_df = df[columns]\n",
    "    return(subset_df)\n",
    "}"
   ]
  },
  {
   "cell_type": "code",
   "execution_count": 12,
   "metadata": {},
   "outputs": [],
   "source": [
    "get_data_with_positive_area <- function(){\n",
    "    # exclude rows where cannot be log transformed\n",
    "    data = full_data[which(full_data$area > 0),]\n",
    "    return(data)\n",
    "}"
   ]
  },
  {
   "cell_type": "markdown",
   "metadata": {},
   "source": [
    "#### Outlier Study"
   ]
  },
  {
   "cell_type": "markdown",
   "metadata": {},
   "source": [
    "As we have seen that most numerical variables in the data set have outiliers. Here, we detect other outlier using cook distance."
   ]
  },
  {
   "cell_type": "code",
   "execution_count": 13,
   "metadata": {},
   "outputs": [],
   "source": [
    "outlier_model <- lm(area ~ ., data=get_original_data())\n",
    "cooksd <- cooks.distance(outlier_model)"
   ]
  },
  {
   "cell_type": "code",
   "execution_count": 14,
   "metadata": {
    "scrolled": false
   },
   "outputs": [
    {
     "data": {
      "image/png": "[encoded data removed]",
      "text/plain": [
       "Plot with title \"Influential Obs by Cooks distance\""
      ]
     },
     "metadata": {},
     "output_type": "display_data"
    }
   ],
   "source": [
    "plot(cooksd, pch=\"*\", cex=2, main=\"Influential Obs by Cooks distance\")  # plot cook's distance\n",
    "abline(h = 4*mean(cooksd, na.rm=T), col=\"red\")  # add cutoff line\n",
    "text(x=1:length(cooksd)+1, y=cooksd+0.01, labels=ifelse(cooksd>4*mean(cooksd, na.rm=T),names(cooksd),\"\"), col=\"red\")  # add labels"
   ]
  },
  {
   "cell_type": "code",
   "execution_count": 15,
   "metadata": {},
   "outputs": [],
   "source": [
    "influential = which(cooksd>4*mean(cooksd, na.rm=T))"
   ]
  },
  {
   "cell_type": "code",
   "execution_count": 16,
   "metadata": {},
   "outputs": [],
   "source": [
    "outlier_data = get_original_data()[influential, ]"
   ]
  },
  {
   "cell_type": "code",
   "execution_count": 17,
   "metadata": {
    "scrolled": false
   },
   "outputs": [
    {
     "data": {
      "text/html": [
       "<table>\n",
       "<thead><tr><th></th><th scope=col>X</th><th scope=col>Y</th><th scope=col>day</th><th scope=col>month</th><th scope=col>FFMC</th><th scope=col>DMC</th><th scope=col>DC</th><th scope=col>ISI</th><th scope=col>temp</th><th scope=col>wind</th><th scope=col>RH</th><th scope=col>rain</th><th scope=col>area</th></tr></thead>\n",
       "<tbody>\n",
       "\t<tr><th scope=row>105</th><td>2      </td><td>4      </td><td>sat    </td><td>jan    </td><td>82.1   </td><td>  3.7  </td><td>  9.3  </td><td> 2.9   </td><td> 5.3   </td><td>3.1    </td><td> 78    </td><td>0.0    </td><td>   0.00</td></tr>\n",
       "\t<tr><th scope=row>236</th><td>8      </td><td>6      </td><td>sun    </td><td>aug    </td><td>91.4   </td><td>142.4  </td><td>601.4  </td><td>10.6   </td><td>19.6   </td><td>5.8    </td><td> 41    </td><td>0.0    </td><td> 196.48</td></tr>\n",
       "\t<tr><th scope=row>237</th><td>2      </td><td>2      </td><td>sat    </td><td>sep    </td><td>92.5   </td><td>121.1  </td><td>674.4  </td><td> 8.6   </td><td>18.2   </td><td>1.8    </td><td> 46    </td><td>0.0    </td><td> 200.94</td></tr>\n",
       "\t<tr><th scope=row>238</th><td>1      </td><td>2      </td><td>tue    </td><td>sep    </td><td>91.0   </td><td>129.5  </td><td>692.6  </td><td> 7.0   </td><td>18.8   </td><td>2.2    </td><td> 40    </td><td>0.0    </td><td> 212.88</td></tr>\n",
       "\t<tr><th scope=row>239</th><td>6      </td><td>5      </td><td>sat    </td><td>sep    </td><td>92.5   </td><td>121.1  </td><td>674.4  </td><td> 8.6   </td><td>25.1   </td><td>4.0    </td><td> 27    </td><td>0.0    </td><td>1090.84</td></tr>\n",
       "\t<tr><th scope=row>305</th><td>6      </td><td>5      </td><td>sat    </td><td>may    </td><td>85.1   </td><td> 28.0  </td><td>113.8  </td><td> 3.5   </td><td>11.3   </td><td>4.9    </td><td> 94    </td><td>0.0    </td><td>   0.00</td></tr>\n",
       "\t<tr><th scope=row>378</th><td>2      </td><td>2      </td><td>sat    </td><td>aug    </td><td>93.7   </td><td>231.1  </td><td>715.1  </td><td> 8.4   </td><td>21.9   </td><td>2.2    </td><td> 42    </td><td>0.0    </td><td> 174.63</td></tr>\n",
       "\t<tr><th scope=row>380</th><td>4      </td><td>5      </td><td>sun    </td><td>jan    </td><td>18.7   </td><td>  1.1  </td><td>171.4  </td><td> 0.0   </td><td> 5.2   </td><td>0.9    </td><td>100    </td><td>0.0    </td><td>   0.00</td></tr>\n",
       "\t<tr><th scope=row>416</th><td>8      </td><td>6      </td><td>thu    </td><td>aug    </td><td>94.8   </td><td>222.4  </td><td>698.6  </td><td>13.9   </td><td>27.5   </td><td>4.9    </td><td> 27    </td><td>0.0    </td><td> 746.28</td></tr>\n",
       "\t<tr><th scope=row>421</th><td>8      </td><td>8      </td><td>wed    </td><td>aug    </td><td>91.7   </td><td>191.4  </td><td>635.9  </td><td> 7.8   </td><td>26.2   </td><td>4.5    </td><td> 36    </td><td>0.0    </td><td> 185.76</td></tr>\n",
       "\t<tr><th scope=row>446</th><td>5      </td><td>5      </td><td>sun    </td><td>aug    </td><td>94.0   </td><td> 47.9  </td><td>100.7  </td><td>10.7   </td><td>17.3   </td><td>4.5    </td><td> 80    </td><td>0.0    </td><td>   0.00</td></tr>\n",
       "\t<tr><th scope=row>472</th><td>4      </td><td>3      </td><td>fri    </td><td>may    </td><td>89.6   </td><td> 25.4  </td><td> 73.7  </td><td> 5.7   </td><td>18.0   </td><td>4.0    </td><td> 40    </td><td>0.0    </td><td>  38.48</td></tr>\n",
       "\t<tr><th scope=row>480</th><td>7      </td><td>4      </td><td>mon    </td><td>jul    </td><td>89.2   </td><td>103.9  </td><td>431.6  </td><td> 6.4   </td><td>22.6   </td><td>4.9    </td><td> 57    </td><td>0.0    </td><td> 278.53</td></tr>\n",
       "\t<tr><th scope=row>500</th><td>7      </td><td>5      </td><td>tue    </td><td>aug    </td><td>96.1   </td><td>181.1  </td><td>671.2  </td><td>14.3   </td><td>27.3   </td><td>4.9    </td><td> 63    </td><td>6.4    </td><td>  10.82</td></tr>\n",
       "</tbody>\n",
       "</table>\n"
      ],
      "text/latex": [
       "\\begin{tabular}{r|lllllllllllll}\n",
       "  & X & Y & day & month & FFMC & DMC & DC & ISI & temp & wind & RH & rain & area\\\\\n",
       "\\hline\n",
       "\t105 & 2       & 4       & sat     & jan     & 82.1    &   3.7   &   9.3   &  2.9    &  5.3    & 3.1     &  78     & 0.0     &    0.00\\\\\n",
       "\t236 & 8       & 6       & sun     & aug     & 91.4    & 142.4   & 601.4   & 10.6    & 19.6    & 5.8     &  41     & 0.0     &  196.48\\\\\n",
       "\t237 & 2       & 2       & sat     & sep     & 92.5    & 121.1   & 674.4   &  8.6    & 18.2    & 1.8     &  46     & 0.0     &  200.94\\\\\n",
       "\t238 & 1       & 2       & tue     & sep     & 91.0    & 129.5   & 692.6   &  7.0    & 18.8    & 2.2     &  40     & 0.0     &  212.88\\\\\n",
       "\t239 & 6       & 5       & sat     & sep     & 92.5    & 121.1   & 674.4   &  8.6    & 25.1    & 4.0     &  27     & 0.0     & 1090.84\\\\\n",
       "\t305 & 6       & 5       & sat     & may     & 85.1    &  28.0   & 113.8   &  3.5    & 11.3    & 4.9     &  94     & 0.0     &    0.00\\\\\n",
       "\t378 & 2       & 2       & sat     & aug     & 93.7    & 231.1   & 715.1   &  8.4    & 21.9    & 2.2     &  42     & 0.0     &  174.63\\\\\n",
       "\t380 & 4       & 5       & sun     & jan     & 18.7    &   1.1   & 171.4   &  0.0    &  5.2    & 0.9     & 100     & 0.0     &    0.00\\\\\n",
       "\t416 & 8       & 6       & thu     & aug     & 94.8    & 222.4   & 698.6   & 13.9    & 27.5    & 4.9     &  27     & 0.0     &  746.28\\\\\n",
       "\t421 & 8       & 8       & wed     & aug     & 91.7    & 191.4   & 635.9   &  7.8    & 26.2    & 4.5     &  36     & 0.0     &  185.76\\\\\n",
       "\t446 & 5       & 5       & sun     & aug     & 94.0    &  47.9   & 100.7   & 10.7    & 17.3    & 4.5     &  80     & 0.0     &    0.00\\\\\n",
       "\t472 & 4       & 3       & fri     & may     & 89.6    &  25.4   &  73.7   &  5.7    & 18.0    & 4.0     &  40     & 0.0     &   38.48\\\\\n",
       "\t480 & 7       & 4       & mon     & jul     & 89.2    & 103.9   & 431.6   &  6.4    & 22.6    & 4.9     &  57     & 0.0     &  278.53\\\\\n",
       "\t500 & 7       & 5       & tue     & aug     & 96.1    & 181.1   & 671.2   & 14.3    & 27.3    & 4.9     &  63     & 6.4     &   10.82\\\\\n",
       "\\end{tabular}\n"
      ],
      "text/markdown": [
       "\n",
       "| <!--/--> | X | Y | day | month | FFMC | DMC | DC | ISI | temp | wind | RH | rain | area |\n",
       "|---|---|---|---|---|---|---|---|---|---|---|---|---|---|\n",
       "| 105 | 2       | 4       | sat     | jan     | 82.1    |   3.7   |   9.3   |  2.9    |  5.3    | 3.1     |  78     | 0.0     |    0.00 |\n",
       "| 236 | 8       | 6       | sun     | aug     | 91.4    | 142.4   | 601.4   | 10.6    | 19.6    | 5.8     |  41     | 0.0     |  196.48 |\n",
       "| 237 | 2       | 2       | sat     | sep     | 92.5    | 121.1   | 674.4   |  8.6    | 18.2    | 1.8     |  46     | 0.0     |  200.94 |\n",
       "| 238 | 1       | 2       | tue     | sep     | 91.0    | 129.5   | 692.6   |  7.0    | 18.8    | 2.2     |  40     | 0.0     |  212.88 |\n",
       "| 239 | 6       | 5       | sat     | sep     | 92.5    | 121.1   | 674.4   |  8.6    | 25.1    | 4.0     |  27     | 0.0     | 1090.84 |\n",
       "| 305 | 6       | 5       | sat     | may     | 85.1    |  28.0   | 113.8   |  3.5    | 11.3    | 4.9     |  94     | 0.0     |    0.00 |\n",
       "| 378 | 2       | 2       | sat     | aug     | 93.7    | 231.1   | 715.1   |  8.4    | 21.9    | 2.2     |  42     | 0.0     |  174.63 |\n",
       "| 380 | 4       | 5       | sun     | jan     | 18.7    |   1.1   | 171.4   |  0.0    |  5.2    | 0.9     | 100     | 0.0     |    0.00 |\n",
       "| 416 | 8       | 6       | thu     | aug     | 94.8    | 222.4   | 698.6   | 13.9    | 27.5    | 4.9     |  27     | 0.0     |  746.28 |\n",
       "| 421 | 8       | 8       | wed     | aug     | 91.7    | 191.4   | 635.9   |  7.8    | 26.2    | 4.5     |  36     | 0.0     |  185.76 |\n",
       "| 446 | 5       | 5       | sun     | aug     | 94.0    |  47.9   | 100.7   | 10.7    | 17.3    | 4.5     |  80     | 0.0     |    0.00 |\n",
       "| 472 | 4       | 3       | fri     | may     | 89.6    |  25.4   |  73.7   |  5.7    | 18.0    | 4.0     |  40     | 0.0     |   38.48 |\n",
       "| 480 | 7       | 4       | mon     | jul     | 89.2    | 103.9   | 431.6   |  6.4    | 22.6    | 4.9     |  57     | 0.0     |  278.53 |\n",
       "| 500 | 7       | 5       | tue     | aug     | 96.1    | 181.1   | 671.2   | 14.3    | 27.3    | 4.9     |  63     | 6.4     |   10.82 |\n",
       "\n"
      ],
      "text/plain": [
       "    X Y day month FFMC DMC   DC    ISI  temp wind RH  rain area   \n",
       "105 2 4 sat jan   82.1   3.7   9.3  2.9  5.3 3.1   78 0.0     0.00\n",
       "236 8 6 sun aug   91.4 142.4 601.4 10.6 19.6 5.8   41 0.0   196.48\n",
       "237 2 2 sat sep   92.5 121.1 674.4  8.6 18.2 1.8   46 0.0   200.94\n",
       "238 1 2 tue sep   91.0 129.5 692.6  7.0 18.8 2.2   40 0.0   212.88\n",
       "239 6 5 sat sep   92.5 121.1 674.4  8.6 25.1 4.0   27 0.0  1090.84\n",
       "305 6 5 sat may   85.1  28.0 113.8  3.5 11.3 4.9   94 0.0     0.00\n",
       "378 2 2 sat aug   93.7 231.1 715.1  8.4 21.9 2.2   42 0.0   174.63\n",
       "380 4 5 sun jan   18.7   1.1 171.4  0.0  5.2 0.9  100 0.0     0.00\n",
       "416 8 6 thu aug   94.8 222.4 698.6 13.9 27.5 4.9   27 0.0   746.28\n",
       "421 8 8 wed aug   91.7 191.4 635.9  7.8 26.2 4.5   36 0.0   185.76\n",
       "446 5 5 sun aug   94.0  47.9 100.7 10.7 17.3 4.5   80 0.0     0.00\n",
       "472 4 3 fri may   89.6  25.4  73.7  5.7 18.0 4.0   40 0.0    38.48\n",
       "480 7 4 mon jul   89.2 103.9 431.6  6.4 22.6 4.9   57 0.0   278.53\n",
       "500 7 5 tue aug   96.1 181.1 671.2 14.3 27.3 4.9   63 6.4    10.82"
      ]
     },
     "metadata": {},
     "output_type": "display_data"
    }
   ],
   "source": [
    "outlier_data"
   ]
  },
  {
   "cell_type": "markdown",
   "metadata": {},
   "source": [
    "There are not many outliers detected by cook distance, hence removing them or not may not impact the performance of the models. However, that can be justified by actually building the model later on."
   ]
  },
  {
   "cell_type": "markdown",
   "metadata": {},
   "source": [
    "#### Statistics of Categorical Independent (Temporal) Variables"
   ]
  },
  {
   "cell_type": "markdown",
   "metadata": {},
   "source": [
    "The `day` variable apparently should have no impact on the burned area. However, it is possible that the `month` may have a big impact depending on which season the month belongs to, hence affecting the temperature and burned area.\n",
    "Let us study this hypothesis via some graphical statistics."
   ]
  },
  {
   "cell_type": "code",
   "execution_count": 18,
   "metadata": {
    "scrolled": false
   },
   "outputs": [
    {
     "data": {
      "image/png": "[encoded data removed]",
      "text/plain": [
       "plot without title"
      ]
     },
     "metadata": {},
     "output_type": "display_data"
    }
   ],
   "source": [
    "ggplot(full_data, aes(full_data$month, full_data$area)) + geom_boxplot() + coord_trans(y = \"sqrt\") + \n",
    "labs(x = \"month\", y = \"the burned area\", title =\"The burned area for different months\")"
   ]
  },
  {
   "cell_type": "markdown",
   "metadata": {},
   "source": [
    "As can be seen, there are much more large bushfires in the months of Aug, Sep, Jun, Jul. Therefore, this temporal variable could be a contributing factor to the model."
   ]
  },
  {
   "cell_type": "code",
   "execution_count": 19,
   "metadata": {},
   "outputs": [
    {
     "data": {
      "image/png": "[encoded data removed]",
      "text/plain": [
       "plot without title"
      ]
     },
     "metadata": {},
     "output_type": "display_data"
    }
   ],
   "source": [
    "ggplot(full_data, aes(full_data$month, full_data$temp)) + geom_boxplot() + \n",
    "labs(x = \"month\", y = \"temperature\", title =\"The temperature for different months\")"
   ]
  },
  {
   "cell_type": "markdown",
   "metadata": {},
   "source": [
    "Interestingly, the above plot also confirms that the `month` variable also impacts the `temp` variable with the same pattern: Aug, Sep, Jun, Jul are the months with the high temperatures (and large burned areas). Hence, `month` and `temp` variables could have collinearity relationship when predicting the burned `area`."
   ]
  },
  {
   "cell_type": "markdown",
   "metadata": {},
   "source": [
    "\n",
    "#### Distribution of Target Variable"
   ]
  },
  {
   "cell_type": "code",
   "execution_count": 20,
   "metadata": {
    "scrolled": false
   },
   "outputs": [
    {
     "data": {
      "image/png": "[encoded data removed]",
      "text/plain": [
       "Plot with title \"Distribution of Burned Area\""
      ]
     },
     "metadata": {},
     "output_type": "display_data"
    }
   ],
   "source": [
    "# Plotting the historgram for the target variable\n",
    "hist(full_data$area, 50, main='Distribution of Burned Area', xlab = 'Burned Area')"
   ]
  },
  {
   "cell_type": "markdown",
   "metadata": {},
   "source": [
    "Simiar to descriptive statistics, the graphical ouput confirms that the distribution of the `area` is skewed with a very high distribution of burned area values around 0-50 range."
   ]
  },
  {
   "cell_type": "markdown",
   "metadata": {},
   "source": [
    "#### Transformation of Target Variable"
   ]
  },
  {
   "cell_type": "code",
   "execution_count": 21,
   "metadata": {},
   "outputs": [],
   "source": [
    "full_data$logarea <- ifelse(full_data$area > 0, log(full_data$area), NA)"
   ]
  },
  {
   "cell_type": "code",
   "execution_count": 22,
   "metadata": {},
   "outputs": [
    {
     "name": "stderr",
     "output_type": "stream",
     "text": [
      "`stat_bin()` using `bins = 30`. Pick better value with `binwidth`.\n"
     ]
    },
    {
     "data": {
      "image/png": "[encoded data removed]",
      "text/plain": [
       "plot without title"
      ]
     },
     "metadata": {},
     "output_type": "display_data"
    }
   ],
   "source": [
    "ggplot(full_data, aes(x = logarea)) + \n",
    "  geom_histogram(aes(y = ..density..), colour = \"black\", fill = \"White\") +\n",
    "  stat_function(fun = dnorm, args = list(mean = mean(full_data$logarea,na.rm=TRUE)\n",
    "                                         , sd = sd(full_data$logarea,na.rm=TRUE)),col = 'red')"
   ]
  },
  {
   "cell_type": "markdown",
   "metadata": {},
   "source": [
    "The above plot shows that the transformed `logarea` is approximately normally distributed. It is suited to be a new target variable when building the models. "
   ]
  },
  {
   "cell_type": "markdown",
   "metadata": {},
   "source": [
    "### 2.3 Correlation between Independent Variables and Target Variable\n",
    "\n",
    "Another method to check the importance/impact of a feature on the target is by checking their correlation.\n",
    "\n",
    "Firstly, let have a lot at the pairwise scatter plots. "
   ]
  },
  {
   "cell_type": "code",
   "execution_count": 23,
   "metadata": {
    "scrolled": false
   },
   "outputs": [
    {
     "data": {
      "image/png": "[encoded data removed]",
      "text/plain": [
       "plot without title"
      ]
     },
     "metadata": {},
     "output_type": "display_data"
    }
   ],
   "source": [
    "pairs(get_original_data(),panel = panel.smooth)"
   ]
  },
  {
   "cell_type": "markdown",
   "metadata": {},
   "source": [
    "This plot clearly shows some patterns between variables:\n",
    "- `month` and `temp` variables are clearly correlated\n",
    "- `temp` and `RH` variables seems correlated\n",
    "- `temp` variable clearly impacts other bushfire index including `FFMC`, `DMC`, `DC`, `ISI`\n",
    "- Meteorological conditions (e.g., `temperature` and `wind`) have a strong impact on the burned `area`"
   ]
  },
  {
   "cell_type": "markdown",
   "metadata": {},
   "source": [
    "Secondly, we can further study the correlation scores between variables to confirm the above observations."
   ]
  },
  {
   "cell_type": "code",
   "execution_count": 24,
   "metadata": {},
   "outputs": [
    {
     "data": {
      "image/png": "[encoded data removed]",
      "text/plain": [
       "Plot with title \"\""
      ]
     },
     "metadata": {},
     "output_type": "display_data"
    }
   ],
   "source": [
    "corrplot(cor(get_original_numerical_data()), method = \"circle\",type='lower',order = \"FPC\", addrect = 10,tl.cex = 0.5,diag = TRUE,tl.col = \"navyblue\")"
   ]
  },
  {
   "cell_type": "markdown",
   "metadata": {},
   "source": [
    "This correlation plot confirms the following observations:\n",
    "- `temp` variable clearly impacts other bushfire indexes including `FFMC`, `DMC`, `DC`, `ISI`\n",
    "- Meteorological conditions (especially the `temperature`) have a considerable impact on the target burned `area`\n",
    "- Features are correlated to each other, particularly `temp` and `RH` variables have negative correlation, which can raise the issue of `multi-collinearity` when building prediction model."
   ]
  },
  {
   "cell_type": "markdown",
   "metadata": {},
   "source": [
    "#### Conclusions after EDA Study"
   ]
  },
  {
   "cell_type": "markdown",
   "metadata": {},
   "source": [
    "The following conclusions can be made after the above EDA study:\n",
    "- Because `temp` variable clearly impacts other bushfire indexes including `FFMC`, `DMC`, `DC`, `ISI`, we can exclude those bushfire indexes when building prediction model for burned `area`.\n",
    "- Meteorological conditions (especially the `temp` variable) have a considerable impact on the target burned `area`\n",
    "- Temporal variables such as `month` have a significant impact on the temperature `temp`, which in its turn affects the target burned `area`. Therefore, it is also fine to exclude temporal variables such as `month` and `day` \n",
    "- Overall, the remaining features to be considered in building prediction model for burned `area`:\n",
    "    - X, Y\n",
    "    - temp, wind, RH, rain"
   ]
  },
  {
   "cell_type": "code",
   "execution_count": 25,
   "metadata": {},
   "outputs": [],
   "source": [
    "eda_selected_variables = c('X', 'Y', 'temp', 'wind', 'RH', 'rain')"
   ]
  },
  {
   "cell_type": "markdown",
   "metadata": {},
   "source": [
    "## 3. Model Development<a class=\"anchor\" id=\"sec_3\"></a>"
   ]
  },
  {
   "cell_type": "markdown",
   "metadata": {},
   "source": [
    "### 3.1 Data Preparation"
   ]
  },
  {
   "cell_type": "markdown",
   "metadata": {},
   "source": [
    "Here, we split the original data set into training set and test set for evaluation purpose.\n",
    "\n",
    "We only consider numerical features selected from the above EDA study, whereas categorical (temporal) features and other bushfire indexes are excluded because they either have no impact on the target variable or have colinearity relationship with temperature feature."
   ]
  },
  {
   "cell_type": "code",
   "execution_count": 62,
   "metadata": {},
   "outputs": [],
   "source": [
    "# Splitting the final subset data in the ratio 85 : 15 for training:testing\n",
    "set.seed(2020)\n",
    "\n",
    "temp_data <- get_data_with_positive_area() # to apply log transformed later\n",
    "\n",
    "temp_data <- get_subset(temp_data, c(eda_selected_variables, get_original_target_variable()))\n",
    "\n",
    "temp_data$area <- log(temp_data$area)\n",
    "\n",
    "split <- sample(nrow(temp_data), 0.85*nrow(temp_data), replace = FALSE)\n",
    "\n",
    "train <- temp_data[split,] # Assigning training data\n",
    "test <- temp_data[-split, eda_selected_variables] # Assigning test data\n",
    "\n",
    "truth_value <- temp_data[-split, get_original_target_variable()] # The true values of the target from the test data "
   ]
  },
  {
   "cell_type": "markdown",
   "metadata": {},
   "source": [
    "Size of train data set:"
   ]
  },
  {
   "cell_type": "code",
   "execution_count": 27,
   "metadata": {},
   "outputs": [
    {
     "data": {
      "text/html": [
       "<ol class=list-inline>\n",
       "\t<li>229</li>\n",
       "\t<li>7</li>\n",
       "</ol>\n"
      ],
      "text/latex": [
       "\\begin{enumerate*}\n",
       "\\item 229\n",
       "\\item 7\n",
       "\\end{enumerate*}\n"
      ],
      "text/markdown": [
       "1. 229\n",
       "2. 7\n",
       "\n",
       "\n"
      ],
      "text/plain": [
       "[1] 229   7"
      ]
     },
     "metadata": {},
     "output_type": "display_data"
    }
   ],
   "source": [
    "dim(train) "
   ]
  },
  {
   "cell_type": "code",
   "execution_count": 28,
   "metadata": {},
   "outputs": [
    {
     "data": {
      "text/html": [
       "<table>\n",
       "<thead><tr><th></th><th scope=col>X</th><th scope=col>Y</th><th scope=col>temp</th><th scope=col>wind</th><th scope=col>RH</th><th scope=col>rain</th><th scope=col>area</th></tr></thead>\n",
       "<tbody>\n",
       "\t<tr><th scope=row>466</th><td>2         </td><td>2         </td><td> 4.6      </td><td>0.9       </td><td>59        </td><td>0         </td><td> 1.9227877</td></tr>\n",
       "\t<tr><th scope=row>225</th><td>7         </td><td>4         </td><td>15.4      </td><td>4.5       </td><td>57        </td><td>0         </td><td> 3.6299253</td></tr>\n",
       "\t<tr><th scope=row>160</th><td>7         </td><td>4         </td><td>19.0      </td><td>5.8       </td><td>34        </td><td>0         </td><td> 0.5247285</td></tr>\n",
       "\t<tr><th scope=row>424</th><td>1         </td><td>3         </td><td>22.3      </td><td>4.0       </td><td>48        </td><td>0         </td><td>-0.3285041</td></tr>\n",
       "\t<tr><th scope=row>344</th><td>8         </td><td>6         </td><td>15.9      </td><td>4.5       </td><td>51        </td><td>0         </td><td> 0.7793249</td></tr>\n",
       "\t<tr><th scope=row>352</th><td>4         </td><td>4         </td><td>15.4      </td><td>6.3       </td><td>53        </td><td>0         </td><td> 1.9892433</td></tr>\n",
       "</tbody>\n",
       "</table>\n"
      ],
      "text/latex": [
       "\\begin{tabular}{r|lllllll}\n",
       "  & X & Y & temp & wind & RH & rain & area\\\\\n",
       "\\hline\n",
       "\t466 & 2          & 2          &  4.6       & 0.9        & 59         & 0          &  1.9227877\\\\\n",
       "\t225 & 7          & 4          & 15.4       & 4.5        & 57         & 0          &  3.6299253\\\\\n",
       "\t160 & 7          & 4          & 19.0       & 5.8        & 34         & 0          &  0.5247285\\\\\n",
       "\t424 & 1          & 3          & 22.3       & 4.0        & 48         & 0          & -0.3285041\\\\\n",
       "\t344 & 8          & 6          & 15.9       & 4.5        & 51         & 0          &  0.7793249\\\\\n",
       "\t352 & 4          & 4          & 15.4       & 6.3        & 53         & 0          &  1.9892433\\\\\n",
       "\\end{tabular}\n"
      ],
      "text/markdown": [
       "\n",
       "| <!--/--> | X | Y | temp | wind | RH | rain | area |\n",
       "|---|---|---|---|---|---|---|---|\n",
       "| 466 | 2          | 2          |  4.6       | 0.9        | 59         | 0          |  1.9227877 |\n",
       "| 225 | 7          | 4          | 15.4       | 4.5        | 57         | 0          |  3.6299253 |\n",
       "| 160 | 7          | 4          | 19.0       | 5.8        | 34         | 0          |  0.5247285 |\n",
       "| 424 | 1          | 3          | 22.3       | 4.0        | 48         | 0          | -0.3285041 |\n",
       "| 344 | 8          | 6          | 15.9       | 4.5        | 51         | 0          |  0.7793249 |\n",
       "| 352 | 4          | 4          | 15.4       | 6.3        | 53         | 0          |  1.9892433 |\n",
       "\n"
      ],
      "text/plain": [
       "    X Y temp wind RH rain area      \n",
       "466 2 2  4.6 0.9  59 0     1.9227877\n",
       "225 7 4 15.4 4.5  57 0     3.6299253\n",
       "160 7 4 19.0 5.8  34 0     0.5247285\n",
       "424 1 3 22.3 4.0  48 0    -0.3285041\n",
       "344 8 6 15.9 4.5  51 0     0.7793249\n",
       "352 4 4 15.4 6.3  53 0     1.9892433"
      ]
     },
     "metadata": {},
     "output_type": "display_data"
    }
   ],
   "source": [
    "head(train)"
   ]
  },
  {
   "cell_type": "code",
   "execution_count": 29,
   "metadata": {},
   "outputs": [
    {
     "data": {
      "text/html": [
       "<table>\n",
       "<thead><tr><th></th><th scope=col>X</th><th scope=col>Y</th><th scope=col>temp</th><th scope=col>wind</th><th scope=col>RH</th><th scope=col>rain</th></tr></thead>\n",
       "<tbody>\n",
       "\t<tr><th scope=row>143</th><td>8   </td><td>6   </td><td>21.2</td><td>8.9 </td><td>51  </td><td>0   </td></tr>\n",
       "\t<tr><th scope=row>144</th><td>1   </td><td>2   </td><td>16.6</td><td>5.4 </td><td>53  </td><td>0   </td></tr>\n",
       "\t<tr><th scope=row>147</th><td>5   </td><td>4   </td><td>13.2</td><td>5.4 </td><td>40  </td><td>0   </td></tr>\n",
       "\t<tr><th scope=row>168</th><td>6   </td><td>5   </td><td>23.4</td><td>4.5 </td><td>33  </td><td>0   </td></tr>\n",
       "\t<tr><th scope=row>172</th><td>8   </td><td>6   </td><td>17.4</td><td>4.0 </td><td>50  </td><td>0   </td></tr>\n",
       "\t<tr><th scope=row>177</th><td>6   </td><td>5   </td><td> 5.8</td><td>5.8 </td><td>54  </td><td>0   </td></tr>\n",
       "</tbody>\n",
       "</table>\n"
      ],
      "text/latex": [
       "\\begin{tabular}{r|llllll}\n",
       "  & X & Y & temp & wind & RH & rain\\\\\n",
       "\\hline\n",
       "\t143 & 8    & 6    & 21.2 & 8.9  & 51   & 0   \\\\\n",
       "\t144 & 1    & 2    & 16.6 & 5.4  & 53   & 0   \\\\\n",
       "\t147 & 5    & 4    & 13.2 & 5.4  & 40   & 0   \\\\\n",
       "\t168 & 6    & 5    & 23.4 & 4.5  & 33   & 0   \\\\\n",
       "\t172 & 8    & 6    & 17.4 & 4.0  & 50   & 0   \\\\\n",
       "\t177 & 6    & 5    &  5.8 & 5.8  & 54   & 0   \\\\\n",
       "\\end{tabular}\n"
      ],
      "text/markdown": [
       "\n",
       "| <!--/--> | X | Y | temp | wind | RH | rain |\n",
       "|---|---|---|---|---|---|---|\n",
       "| 143 | 8    | 6    | 21.2 | 8.9  | 51   | 0    |\n",
       "| 144 | 1    | 2    | 16.6 | 5.4  | 53   | 0    |\n",
       "| 147 | 5    | 4    | 13.2 | 5.4  | 40   | 0    |\n",
       "| 168 | 6    | 5    | 23.4 | 4.5  | 33   | 0    |\n",
       "| 172 | 8    | 6    | 17.4 | 4.0  | 50   | 0    |\n",
       "| 177 | 6    | 5    |  5.8 | 5.8  | 54   | 0    |\n",
       "\n"
      ],
      "text/plain": [
       "    X Y temp wind RH rain\n",
       "143 8 6 21.2 8.9  51 0   \n",
       "144 1 2 16.6 5.4  53 0   \n",
       "147 5 4 13.2 5.4  40 0   \n",
       "168 6 5 23.4 4.5  33 0   \n",
       "172 8 6 17.4 4.0  50 0   \n",
       "177 6 5  5.8 5.8  54 0   "
      ]
     },
     "metadata": {},
     "output_type": "display_data"
    }
   ],
   "source": [
    "head(test)"
   ]
  },
  {
   "cell_type": "markdown",
   "metadata": {},
   "source": [
    "Size of test data set:"
   ]
  },
  {
   "cell_type": "code",
   "execution_count": 30,
   "metadata": {},
   "outputs": [
    {
     "data": {
      "text/html": [
       "<ol class=list-inline>\n",
       "\t<li>41</li>\n",
       "\t<li>6</li>\n",
       "</ol>\n"
      ],
      "text/latex": [
       "\\begin{enumerate*}\n",
       "\\item 41\n",
       "\\item 6\n",
       "\\end{enumerate*}\n"
      ],
      "text/markdown": [
       "1. 41\n",
       "2. 6\n",
       "\n",
       "\n"
      ],
      "text/plain": [
       "[1] 41  6"
      ]
     },
     "metadata": {},
     "output_type": "display_data"
    },
    {
     "data": {
      "text/html": [
       "41"
      ],
      "text/latex": [
       "41"
      ],
      "text/markdown": [
       "41"
      ],
      "text/plain": [
       "[1] 41"
      ]
     },
     "metadata": {},
     "output_type": "display_data"
    }
   ],
   "source": [
    "dim(test)\n",
    "length(truth_value)"
   ]
  },
  {
   "cell_type": "markdown",
   "metadata": {},
   "source": [
    "### 3.2 Boosted Tree"
   ]
  },
  {
   "cell_type": "markdown",
   "metadata": {},
   "source": [
    "Perform boosting on the training set with 1000 trees for a range of values of the shrinkage parameter $\\lambda$.\n",
    "Produce twos plots:\n",
    "* one with different shrinkage values on the x-axis and the corresponding training set RMSE on the y-axis.\n",
    "* one with different shrinkage values on the x-axis and the corresponding testing set RMSE on the y-axis."
   ]
  },
  {
   "cell_type": "code",
   "execution_count": 31,
   "metadata": {},
   "outputs": [],
   "source": [
    "set.seed(1)"
   ]
  },
  {
   "cell_type": "code",
   "execution_count": 32,
   "metadata": {},
   "outputs": [],
   "source": [
    "pows = seq(-10, -0.2, by = 0.1)\n",
    "lambdas = 10^pows\n",
    "length.lambdas = length(lambdas)\n",
    "train.errors = rep(NA, length.lambdas)\n",
    "test.errors = rep(NA, length.lambdas)"
   ]
  },
  {
   "cell_type": "code",
   "execution_count": 33,
   "metadata": {},
   "outputs": [],
   "source": [
    "for (i in 1:length.lambdas) {\n",
    "    boost.model = gbm(area ~ ., data = train, distribution = \"gaussian\", n.trees = 1000, shrinkage = lambdas[i])\n",
    "    train.pred = predict(boost.model, train, n.trees = 1000)\n",
    "    test.pred = predict(boost.model, test, n.trees = 1000)\n",
    "    train.errors[i] = sqrt(mean((train$area - train.pred)^2))\n",
    "    test.errors[i] = sqrt(mean((truth_value - test.pred)^2))\n",
    "}"
   ]
  },
  {
   "cell_type": "code",
   "execution_count": 34,
   "metadata": {
    "scrolled": false
   },
   "outputs": [
    {
     "data": {
      "image/png": "[encoded data removed]",
      "text/plain": [
       "plot without title"
      ]
     },
     "metadata": {},
     "output_type": "display_data"
    }
   ],
   "source": [
    "par(mfcol=c(1,2))\n",
    "plot(lambdas, train.errors, type = \"b\", xlab = \"Shrinkage values\", ylab = \"Training RMSE\")\n",
    "plot(lambdas, test.errors, type = \"b\", xlab = \"Shrinkage values\", ylab = \"Test RMSE\")"
   ]
  },
  {
   "cell_type": "markdown",
   "metadata": {},
   "source": [
    "Optimal shinkage value regarding test RMSE: "
   ]
  },
  {
   "cell_type": "code",
   "execution_count": 35,
   "metadata": {},
   "outputs": [
    {
     "data": {
      "text/html": [
       "1.74706935132073"
      ],
      "text/latex": [
       "1.74706935132073"
      ],
      "text/markdown": [
       "1.74706935132073"
      ],
      "text/plain": [
       "[1] 1.747069"
      ]
     },
     "metadata": {},
     "output_type": "display_data"
    }
   ],
   "source": [
    "min(test.errors)"
   ]
  },
  {
   "cell_type": "code",
   "execution_count": 36,
   "metadata": {},
   "outputs": [
    {
     "data": {
      "text/html": [
       "1e-10"
      ],
      "text/latex": [
       "1e-10"
      ],
      "text/markdown": [
       "1e-10"
      ],
      "text/plain": [
       "[1] 1e-10"
      ]
     },
     "metadata": {},
     "output_type": "display_data"
    }
   ],
   "source": [
    "lambdas[which.min(test.errors)]"
   ]
  },
  {
   "cell_type": "markdown",
   "metadata": {},
   "source": [
    "Build the boosted tree model using the above selected parameter:"
   ]
  },
  {
   "cell_type": "code",
   "execution_count": 37,
   "metadata": {},
   "outputs": [],
   "source": [
    "best.boost.model <- gbm(area ~ ., data = train, distribution = \"gaussian\", n.trees = 1000, shrinkage = lambdas[which.min(test.errors)])"
   ]
  },
  {
   "cell_type": "markdown",
   "metadata": {},
   "source": [
    "Importance of Variables:"
   ]
  },
  {
   "cell_type": "code",
   "execution_count": 38,
   "metadata": {},
   "outputs": [
    {
     "data": {
      "text/html": [
       "<table>\n",
       "<thead><tr><th></th><th scope=col>var</th><th scope=col>rel.inf</th></tr></thead>\n",
       "<tbody>\n",
       "\t<tr><th scope=row>RH</th><td>RH       </td><td>56.857983</td></tr>\n",
       "\t<tr><th scope=row>temp</th><td>temp     </td><td>18.881611</td></tr>\n",
       "\t<tr><th scope=row>wind</th><td>wind     </td><td>18.274584</td></tr>\n",
       "\t<tr><th scope=row>Y</th><td>Y        </td><td> 4.043996</td></tr>\n",
       "\t<tr><th scope=row>X</th><td>X        </td><td> 1.941826</td></tr>\n",
       "\t<tr><th scope=row>rain</th><td>rain     </td><td> 0.000000</td></tr>\n",
       "</tbody>\n",
       "</table>\n"
      ],
      "text/latex": [
       "\\begin{tabular}{r|ll}\n",
       "  & var & rel.inf\\\\\n",
       "\\hline\n",
       "\tRH & RH        & 56.857983\\\\\n",
       "\ttemp & temp      & 18.881611\\\\\n",
       "\twind & wind      & 18.274584\\\\\n",
       "\tY & Y         &  4.043996\\\\\n",
       "\tX & X         &  1.941826\\\\\n",
       "\train & rain      &  0.000000\\\\\n",
       "\\end{tabular}\n"
      ],
      "text/markdown": [
       "\n",
       "| <!--/--> | var | rel.inf |\n",
       "|---|---|---|\n",
       "| RH | RH        | 56.857983 |\n",
       "| temp | temp      | 18.881611 |\n",
       "| wind | wind      | 18.274584 |\n",
       "| Y | Y         |  4.043996 |\n",
       "| X | X         |  1.941826 |\n",
       "| rain | rain      |  0.000000 |\n",
       "\n"
      ],
      "text/plain": [
       "     var  rel.inf  \n",
       "RH   RH   56.857983\n",
       "temp temp 18.881611\n",
       "wind wind 18.274584\n",
       "Y    Y     4.043996\n",
       "X    X     1.941826\n",
       "rain rain  0.000000"
      ]
     },
     "metadata": {},
     "output_type": "display_data"
    },
    {
     "data": {
      "image/png": "[encoded data removed]",
      "text/plain": [
       "plot without title"
      ]
     },
     "metadata": {},
     "output_type": "display_data"
    }
   ],
   "source": [
    "summary(best.boost.model)"
   ]
  },
  {
   "cell_type": "markdown",
   "metadata": {},
   "source": [
    "### 3.3 Baseline Linear Regression"
   ]
  },
  {
   "cell_type": "code",
   "execution_count": 39,
   "metadata": {},
   "outputs": [],
   "source": [
    "# Training the Model using the train data \n",
    "linear_model<- lm(area~., train)"
   ]
  },
  {
   "cell_type": "code",
   "execution_count": 40,
   "metadata": {
    "scrolled": false
   },
   "outputs": [
    {
     "data": {
      "text/plain": [
       "\n",
       "Call:\n",
       "lm(formula = area ~ ., data = train)\n",
       "\n",
       "Residuals:\n",
       "    Min      1Q  Median      3Q     Max \n",
       "-4.3074 -1.0222  0.0000  0.8637  4.7152 \n",
       "\n",
       "Coefficients:\n",
       "             Estimate Std. Error t value Pr(>|t|)  \n",
       "(Intercept)  1.835703   0.817063   2.247   0.0256 *\n",
       "X            0.006791   0.048657   0.140   0.8891  \n",
       "Y            0.001647   0.097646   0.017   0.9866  \n",
       "temp        -0.013385   0.019422  -0.689   0.4915  \n",
       "wind         0.098005   0.056483   1.735   0.0841 .\n",
       "RH          -0.004155   0.007465  -0.557   0.5783  \n",
       "rain        -0.906361   1.087957  -0.833   0.4057  \n",
       "---\n",
       "Signif. codes:  0 '***' 0.001 '**' 0.01 '*' 0.05 '.' 0.1 ' ' 1\n",
       "\n",
       "Residual standard error: 1.486 on 222 degrees of freedom\n",
       "Multiple R-squared:  0.0236,\tAdjusted R-squared:  -0.002794 \n",
       "F-statistic: 0.8941 on 6 and 222 DF,  p-value: 0.5\n"
      ]
     },
     "metadata": {},
     "output_type": "display_data"
    }
   ],
   "source": [
    "# Summary of the Linear Model\n",
    "summary(linear_model)"
   ]
  },
  {
   "cell_type": "markdown",
   "metadata": {},
   "source": [
    "The p value of `wind` variable shows that this feature has the highest impact on the target `burned`area."
   ]
  },
  {
   "cell_type": "code",
   "execution_count": 41,
   "metadata": {
    "scrolled": false
   },
   "outputs": [
    {
     "data": {
      "image/png": "[encoded data removed]",
      "text/plain": [
       "Plot with title \"\""
      ]
     },
     "metadata": {},
     "output_type": "display_data"
    }
   ],
   "source": [
    "# Plot The Diagnostic Plots of the model.\n",
    "par(mfrow = c(2,2))\n",
    "plot(linear_model)"
   ]
  },
  {
   "cell_type": "markdown",
   "metadata": {},
   "source": [
    "The above diagnostic plots indicate that the linear regression model reasonably fits the training data."
   ]
  },
  {
   "cell_type": "markdown",
   "metadata": {},
   "source": [
    "## 3.4 Random Forest"
   ]
  },
  {
   "cell_type": "markdown",
   "metadata": {},
   "source": [
    "In this model we will apply the Random Forest regression method. The Random Forest method is a prediction algorithm that uses a very large number of decision tress built from various different samples of the input dataset. "
   ]
  },
  {
   "cell_type": "code",
   "execution_count": 42,
   "metadata": {},
   "outputs": [],
   "source": [
    "# Fitting the Random Forest Model specifying the Target and the right Subset of features.\n",
    "# Poviding the number of tree - 1000\n",
    "# Providing number of variables to select per split - 6\n",
    "\n",
    "rdf_model <- randomForest(area ~ ., data = train, ntree = 1000, mtry = 6, importance = TRUE)"
   ]
  },
  {
   "cell_type": "code",
   "execution_count": 43,
   "metadata": {
    "scrolled": true
   },
   "outputs": [
    {
     "data": {
      "text/html": [
       "<table>\n",
       "<thead><tr><th></th><th scope=col>%IncMSE</th><th scope=col>IncNodePurity</th></tr></thead>\n",
       "<tbody>\n",
       "\t<tr><th scope=row>X</th><td>-6.0039498 </td><td> 59.4797658</td></tr>\n",
       "\t<tr><th scope=row>Y</th><td> 0.9114261 </td><td> 47.3293543</td></tr>\n",
       "\t<tr><th scope=row>temp</th><td> 2.6446876 </td><td>141.7324945</td></tr>\n",
       "\t<tr><th scope=row>wind</th><td> 4.4689410 </td><td> 75.9358321</td></tr>\n",
       "\t<tr><th scope=row>RH</th><td> 5.5500802 </td><td>126.2281086</td></tr>\n",
       "\t<tr><th scope=row>rain</th><td> 0.0000000 </td><td>  0.4449464</td></tr>\n",
       "</tbody>\n",
       "</table>\n"
      ],
      "text/latex": [
       "\\begin{tabular}{r|ll}\n",
       "  & \\%IncMSE & IncNodePurity\\\\\n",
       "\\hline\n",
       "\tX & -6.0039498  &  59.4797658\\\\\n",
       "\tY &  0.9114261  &  47.3293543\\\\\n",
       "\ttemp &  2.6446876  & 141.7324945\\\\\n",
       "\twind &  4.4689410  &  75.9358321\\\\\n",
       "\tRH &  5.5500802  & 126.2281086\\\\\n",
       "\train &  0.0000000  &   0.4449464\\\\\n",
       "\\end{tabular}\n"
      ],
      "text/markdown": [
       "\n",
       "| <!--/--> | %IncMSE | IncNodePurity |\n",
       "|---|---|---|\n",
       "| X | -6.0039498  |  59.4797658 |\n",
       "| Y |  0.9114261  |  47.3293543 |\n",
       "| temp |  2.6446876  | 141.7324945 |\n",
       "| wind |  4.4689410  |  75.9358321 |\n",
       "| RH |  5.5500802  | 126.2281086 |\n",
       "| rain |  0.0000000  |   0.4449464 |\n",
       "\n"
      ],
      "text/plain": [
       "     %IncMSE    IncNodePurity\n",
       "X    -6.0039498  59.4797658  \n",
       "Y     0.9114261  47.3293543  \n",
       "temp  2.6446876 141.7324945  \n",
       "wind  4.4689410  75.9358321  \n",
       "RH    5.5500802 126.2281086  \n",
       "rain  0.0000000   0.4449464  "
      ]
     },
     "metadata": {},
     "output_type": "display_data"
    }
   ],
   "source": [
    "# Displaying the features based on calculated importance of the feature.\n",
    "importance(rdf_model)"
   ]
  },
  {
   "cell_type": "code",
   "execution_count": 44,
   "metadata": {},
   "outputs": [
    {
     "data": {
      "image/png": "[encoded data removed]",
      "text/plain": [
       "plot without title"
      ]
     },
     "metadata": {},
     "output_type": "display_data"
    }
   ],
   "source": [
    "varImpPlot(rdf_model)"
   ]
  },
  {
   "cell_type": "markdown",
   "metadata": {},
   "source": [
    "This result of Random forest model confirms that the `temp` feature is the most dominant feature in the model."
   ]
  },
  {
   "cell_type": "code",
   "execution_count": 45,
   "metadata": {
    "scrolled": false
   },
   "outputs": [
    {
     "data": {
      "image/png": "[encoded data removed]",
      "text/plain": [
       "Plot with title \"rdf_model\""
      ]
     },
     "metadata": {},
     "output_type": "display_data"
    }
   ],
   "source": [
    "plot(rdf_model)"
   ]
  },
  {
   "cell_type": "markdown",
   "metadata": {},
   "source": [
    "- The error vs tress graph above is graphical representation of the accuracy of the Random forest model as it varies with the number of trees selected while training the model.\n",
    "- From the above plot we see that it is not required upto 1000 trees to arrive at a Model with similar accuracy.\n",
    "- This plot shows we could have trained the model in a range of 50 to 400 trees and arrived at a similar accuracy for the model."
   ]
  },
  {
   "cell_type": "markdown",
   "metadata": {},
   "source": [
    "### 3.5 Support Vector Machine"
   ]
  },
  {
   "cell_type": "code",
   "execution_count": 46,
   "metadata": {},
   "outputs": [],
   "source": [
    "svm_model = svm(area ~ ., data = train, kernel = \"linear\", cost = 10, scale = FALSE)"
   ]
  },
  {
   "cell_type": "code",
   "execution_count": 47,
   "metadata": {
    "scrolled": false
   },
   "outputs": [
    {
     "name": "stdout",
     "output_type": "stream",
     "text": [
      "\n",
      "Call:\n",
      "svm(formula = area ~ ., data = train, kernel = \"linear\", cost = 10, \n",
      "    scale = FALSE)\n",
      "\n",
      "\n",
      "Parameters:\n",
      "   SVM-Type:  eps-regression \n",
      " SVM-Kernel:  linear \n",
      "       cost:  10 \n",
      "      gamma:  0.1666667 \n",
      "    epsilon:  0.1 \n",
      "\n",
      "\n",
      "Number of Support Vectors:  217\n",
      "\n"
     ]
    }
   ],
   "source": [
    "print(svm_model)"
   ]
  },
  {
   "cell_type": "markdown",
   "metadata": {},
   "source": [
    "As can be seen, there are 217 support vectors from the training data set."
   ]
  },
  {
   "cell_type": "markdown",
   "metadata": {},
   "source": [
    "## 4. Model Comparsion<a class=\"anchor\" id=\"sec_4\"></a>"
   ]
  },
  {
   "cell_type": "markdown",
   "metadata": {},
   "source": [
    "As we conclude our model development, we shall now look at a method to compare models and how we can decide which prediction model would be best suitable for our purpose.\n",
    "    - In particular, the partitioned (train & test) data to predict values on the Test data and compare its difference from out truth values\n",
    "    - This method allows us to compute the Root Mean Squared Error (RMSE) of each model.\n",
    "    - We will also display a scatter plot of the Truth Values Vs. Predicted values for each model"
   ]
  },
  {
   "cell_type": "markdown",
   "metadata": {},
   "source": [
    "### 4.1 Performance of Boosted Tree"
   ]
  },
  {
   "cell_type": "code",
   "execution_count": 48,
   "metadata": {},
   "outputs": [],
   "source": [
    "# Predicting the target values\n",
    "prediction_boost<-predict(best.boost.model, test, n.trees = 1000)"
   ]
  },
  {
   "cell_type": "code",
   "execution_count": 49,
   "metadata": {
    "scrolled": false
   },
   "outputs": [
    {
     "data": {
      "image/png": "[encoded data removed]",
      "text/plain": [
       "Plot with title \"Predicted Values Vs Truth Values \""
      ]
     },
     "metadata": {},
     "output_type": "display_data"
    }
   ],
   "source": [
    "# Plotting the Predicted Values Vs Truth Values\n",
    "plot((prediction_boost),truth_value,main = 'Predicted Values Vs Truth Values ',xlab='Predicted Values',ylab='Truth Values')\n",
    "abline(lm(prediction_boost~truth_value), col=\"red\")"
   ]
  },
  {
   "cell_type": "code",
   "execution_count": 50,
   "metadata": {},
   "outputs": [
    {
     "name": "stdout",
     "output_type": "stream",
     "text": [
      "The RMSE for the Boosted Tree Model is 1.747069"
     ]
    }
   ],
   "source": [
    "# Printing the RMSE\n",
    "mse_boost <- mean((truth_value - prediction_boost)^2)\n",
    "cat('The RMSE for the Boosted Tree Model is', sqrt(mse_boost))"
   ]
  },
  {
   "cell_type": "markdown",
   "metadata": {},
   "source": [
    "### 4.2 Performance of Linear Regression"
   ]
  },
  {
   "cell_type": "code",
   "execution_count": 51,
   "metadata": {},
   "outputs": [],
   "source": [
    "# Predicting the target values for the Linear Model\n",
    "prediction_lm<-predict(linear_model, test)"
   ]
  },
  {
   "cell_type": "code",
   "execution_count": 52,
   "metadata": {
    "scrolled": false
   },
   "outputs": [
    {
     "data": {
      "image/png": "[encoded data removed]",
      "text/plain": [
       "Plot with title \"Predicted Values Vs Truth Values \""
      ]
     },
     "metadata": {},
     "output_type": "display_data"
    }
   ],
   "source": [
    "# Plotting the Predicted Values Vs Truth Values for the Linear Model\n",
    "plot((prediction_lm),truth_value,main = 'Predicted Values Vs Truth Values ',xlab='Predicted Values',ylab='Truth Values')\n",
    "abline(lm(prediction_lm~truth_value), col=\"red\")"
   ]
  },
  {
   "cell_type": "code",
   "execution_count": 53,
   "metadata": {},
   "outputs": [
    {
     "name": "stdout",
     "output_type": "stream",
     "text": [
      "The RMSE for the Linear Model is  2.068839"
     ]
    }
   ],
   "source": [
    "# Printing the RMSE for the Linear model based on the prediction done\n",
    "mse_lm <- mean((truth_value - prediction_lm)^2)\n",
    "cat('The RMSE for the Linear Model is ', sqrt(mse_lm))"
   ]
  },
  {
   "cell_type": "markdown",
   "metadata": {},
   "source": [
    "### 4.3 Performance of Random Forest"
   ]
  },
  {
   "cell_type": "code",
   "execution_count": 54,
   "metadata": {},
   "outputs": [],
   "source": [
    "# Predicting the target values for the Random Forest Model\n",
    "prediction_rdf<-predict(rdf_model, test)"
   ]
  },
  {
   "cell_type": "code",
   "execution_count": 55,
   "metadata": {
    "scrolled": false
   },
   "outputs": [
    {
     "data": {
      "image/png": "[encoded data removed]",
      "text/plain": [
       "Plot with title \"Predicted Values Vs Truth Values \""
      ]
     },
     "metadata": {},
     "output_type": "display_data"
    }
   ],
   "source": [
    "# Plotting the Predicted Values Vs Truth Values\n",
    "\n",
    "plot((prediction_rdf),truth_value, main = 'Predicted Values Vs Truth Values ',xlab='Predicted Values',ylab='Truth Values')\n",
    "abline(lm(prediction_rdf~truth_value), col=\"red\")"
   ]
  },
  {
   "cell_type": "code",
   "execution_count": 56,
   "metadata": {},
   "outputs": [
    {
     "name": "stdout",
     "output_type": "stream",
     "text": [
      "The RMSE for the Random Forest Model is 1.896477"
     ]
    }
   ],
   "source": [
    "# Printing the RMSE\n",
    "mse_rdf <- mean((truth_value - prediction_rdf)^2)\n",
    "cat('The RMSE for the Random Forest Model is', sqrt(mse_rdf))"
   ]
  },
  {
   "cell_type": "markdown",
   "metadata": {},
   "source": [
    "### 4.4 Performance of SVM"
   ]
  },
  {
   "cell_type": "code",
   "execution_count": 57,
   "metadata": {},
   "outputs": [],
   "source": [
    "# Predicting the target values for the Random Forest Model\n",
    "prediction_svm<-predict(svm_model, test)"
   ]
  },
  {
   "cell_type": "code",
   "execution_count": 58,
   "metadata": {},
   "outputs": [
    {
     "data": {
      "image/png": "[encoded data removed]",
      "text/plain": [
       "Plot with title \"Predicted Values Vs Truth Values \""
      ]
     },
     "metadata": {},
     "output_type": "display_data"
    }
   ],
   "source": [
    "# Plotting the Predicted Values Vs Truth Values for the Linear Model\n",
    "\n",
    "plot((prediction_svm),truth_value,main = 'Predicted Values Vs Truth Values ',xlab='Predicted Values',ylab='Truth Values')\n",
    "abline(lm(prediction_svm~truth_value), col=\"red\")"
   ]
  },
  {
   "cell_type": "code",
   "execution_count": 59,
   "metadata": {},
   "outputs": [
    {
     "name": "stdout",
     "output_type": "stream",
     "text": [
      "The RMSE for the SVM Model is 2.040293"
     ]
    }
   ],
   "source": [
    "mse_svm <- mean((truth_value - prediction_svm)^2)\n",
    "cat('The RMSE for the SVM Model is',sqrt(mse_svm))"
   ]
  },
  {
   "cell_type": "markdown",
   "metadata": {},
   "source": [
    "### 4.5 Conclusion of Model Comparison"
   ]
  },
  {
   "cell_type": "markdown",
   "metadata": {},
   "source": [
    "The RMSE of a model is a very convenient method to judge the accuracy of a model and can be easily computed for any type of regression model. \n",
    "\n",
    "Based on the above calculated RSMEs for different models, we can conclude this model comparison with the `Boosted Tree` coming out as the `Clear winner` with its own shrinkage parameter optimised in the model development section.\n"
   ]
  },
  {
   "cell_type": "markdown",
   "metadata": {},
   "source": [
    "## 5. Variable Identification and Explanation <a class=\"anchor\" id=\"sec_5\"></a>"
   ]
  },
  {
   "cell_type": "markdown",
   "metadata": {},
   "source": [
    "As a result of the EDA study (section 2), we only consider numerical features including geographical locations and meterology conditions, whereas categorical (temporal) features and other bushfire indexes are excluded because they either have no impact on the target variable or have colinearity relationship with temperature feature.\n",
    "    - Geographical locations: X, Y\n",
    "    - Metorology conditions: temp, wind, RH, rain\n"
   ]
  },
  {
   "cell_type": "markdown",
   "metadata": {},
   "source": [
    "In addition, the selected best prediction model (Boosted Tree) also provided us guidance of variable importance."
   ]
  },
  {
   "cell_type": "code",
   "execution_count": 60,
   "metadata": {},
   "outputs": [
    {
     "data": {
      "text/html": [
       "<table>\n",
       "<thead><tr><th></th><th scope=col>var</th><th scope=col>rel.inf</th></tr></thead>\n",
       "<tbody>\n",
       "\t<tr><th scope=row>RH</th><td>RH       </td><td>56.857983</td></tr>\n",
       "\t<tr><th scope=row>temp</th><td>temp     </td><td>18.881611</td></tr>\n",
       "\t<tr><th scope=row>wind</th><td>wind     </td><td>18.274584</td></tr>\n",
       "\t<tr><th scope=row>Y</th><td>Y        </td><td> 4.043996</td></tr>\n",
       "\t<tr><th scope=row>X</th><td>X        </td><td> 1.941826</td></tr>\n",
       "\t<tr><th scope=row>rain</th><td>rain     </td><td> 0.000000</td></tr>\n",
       "</tbody>\n",
       "</table>\n"
      ],
      "text/latex": [
       "\\begin{tabular}{r|ll}\n",
       "  & var & rel.inf\\\\\n",
       "\\hline\n",
       "\tRH & RH        & 56.857983\\\\\n",
       "\ttemp & temp      & 18.881611\\\\\n",
       "\twind & wind      & 18.274584\\\\\n",
       "\tY & Y         &  4.043996\\\\\n",
       "\tX & X         &  1.941826\\\\\n",
       "\train & rain      &  0.000000\\\\\n",
       "\\end{tabular}\n"
      ],
      "text/markdown": [
       "\n",
       "| <!--/--> | var | rel.inf |\n",
       "|---|---|---|\n",
       "| RH | RH        | 56.857983 |\n",
       "| temp | temp      | 18.881611 |\n",
       "| wind | wind      | 18.274584 |\n",
       "| Y | Y         |  4.043996 |\n",
       "| X | X         |  1.941826 |\n",
       "| rain | rain      |  0.000000 |\n",
       "\n"
      ],
      "text/plain": [
       "     var  rel.inf  \n",
       "RH   RH   56.857983\n",
       "temp temp 18.881611\n",
       "wind wind 18.274584\n",
       "Y    Y     4.043996\n",
       "X    X     1.941826\n",
       "rain rain  0.000000"
      ]
     },
     "metadata": {},
     "output_type": "display_data"
    },
    {
     "data": {
      "image/png": "[encoded data removed]",
      "text/plain": [
       "plot without title"
      ]
     },
     "metadata": {},
     "output_type": "display_data"
    }
   ],
   "source": [
    "summary(best.boost.model)"
   ]
  },
  {
   "cell_type": "markdown",
   "metadata": {},
   "source": [
    "From the above variable importance result, we can select the most important features for predicting the burned area:\n",
    "    - Geographical locations: X, Y\n",
    "    - Meteorological conditions: temp, RH, wind"
   ]
  },
  {
   "cell_type": "code",
   "execution_count": 61,
   "metadata": {},
   "outputs": [
    {
     "data": {
      "image/png": "[encoded data removed]",
      "text/plain": [
       "plot without title"
      ]
     },
     "metadata": {},
     "output_type": "display_data"
    }
   ],
   "source": [
    "corr_matrix <- round(cor(get_subset(full_data,c('X','Y','temp','RH','wind', 'rain', 'area'))), 2)\n",
    "ggcorrplot(corr_matrix, hc.order = TRUE, \n",
    "           type = \"lower\", \n",
    "           lab = TRUE, \n",
    "           lab_size = 3, \n",
    "           method=\"square\", \n",
    "           colors = c(\"tomato2\", \"white\", \"springgreen3\"), \n",
    "           title=\"Correlogram of final selected features and target variable\", \n",
    "           ggtheme=theme_bw)"
   ]
  },
  {
   "cell_type": "markdown",
   "metadata": {},
   "source": [
    "The correlation scores of final selected variables with regard to the target variable are not very strong, indicating this is really a hard prediction problem. However, the variable selection done by EDA and model development is also very reasonable given the data we have at hand:\n",
    "    - The location of the bushfire impacts burned area due to specific vegetation and elevation properties associated with that location.\n",
    "    - The meteorological conditions, especially the temperature and RH, are the key factors affecting the ignition and spreading of the bushfire as shown in the EDA study."
   ]
  },
  {
   "cell_type": "markdown",
   "metadata": {},
   "source": [
    "## 6. Conclusion <a class=\"anchor\" id=\"sec_6\"></a>"
   ]
  },
  {
   "cell_type": "markdown",
   "metadata": {},
   "source": [
    "After EDA study, we were able to segregate certain variable as insignificant to the target, cerain variables were discarded for Multicollinearity. \n",
    "\n",
    "To predict the burned area, four Models were developed and compared for their accuracy in prediction. The Boosted Tree Model outperformed other three models and confirmed the most important features including geolocations of the bushfires and meteoroglogy conditions."
   ]
  },
  {
   "cell_type": "markdown",
   "metadata": {},
   "source": [
    "## 7. References <a class=\"anchor\" id=\"sec_7\"></a>"
   ]
  },
  {
   "cell_type": "markdown",
   "metadata": {},
   "source": [
    "* A Data Mining Approach to Predict Forest Fires using Meteorological data - http://www3.dsi.uminho.pt/pcortez/fires.pdf \n",
    "\n",
    "* Existing analysis - http://www.columbia.edu/~yh2693/ForestFire.html\n",
    "\n",
    "* Sample analysis - https://www.kaggle.com/elikplim/predict-the-burned-area-of-forest-fires\n",
    "\n",
    "* Corrplot - https://cran.r-project.org/web/packages/corrplot/vignettes/corrplot-intro.html\n",
    "\n",
    "* Corrplot- https://rstudio-pubs-static.s3.amazonaws.com/240657_5157ff98e8204c358b2118fa69162e18.html\n"
   ]
  }
 ],
 "metadata": {
  "kernelspec": {
   "display_name": "R",
   "language": "R",
   "name": "ir"
  },
  "language_info": {
   "codemirror_mode": "r",
   "file_extension": ".r",
   "mimetype": "text/x-r-source",
   "name": "R",
   "pygments_lexer": "r",
   "version": "3.6.1"
  }
 },
 "nbformat": 4,
 "nbformat_minor": 2
}
